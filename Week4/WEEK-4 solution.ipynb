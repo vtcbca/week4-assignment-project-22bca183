{
 "cells": [
  {
   "cell_type": "code",
   "execution_count": 1,
   "id": "df49ebd3",
   "metadata": {},
   "outputs": [],
   "source": [
    "import sqlite3 as sq\n",
    "import datetime"
   ]
  },
  {
   "cell_type": "code",
   "execution_count": 3,
   "id": "fcae35d6",
   "metadata": {},
   "outputs": [],
   "source": [
    "con = sq.connect(\"contactmanagementsystem.db\")"
   ]
  },
  {
   "cell_type": "code",
   "execution_count": 4,
   "id": "63d46665",
   "metadata": {},
   "outputs": [],
   "source": [
    "cur = con.cursor()"
   ]
  },
  {
   "cell_type": "code",
   "execution_count": 5,
   "id": "86f6b5b5",
   "metadata": {},
   "outputs": [
    {
     "data": {
      "text/plain": [
       "<sqlite3.Cursor at 0x22de3870540>"
      ]
     },
     "execution_count": 5,
     "metadata": {},
     "output_type": "execute_result"
    }
   ],
   "source": [
    "cur.execute(\"\"\"create table if not exists contact\n",
    "               ( cid int primary key,\n",
    "                 fname text,\n",
    "                 lname text,\n",
    "                 contact number,\n",
    "                 email text,\n",
    "                 city text\n",
    "                 check ( email like '%_@_%._%')\n",
    "                );\"\"\")"
   ]
  },
  {
   "cell_type": "code",
   "execution_count": 6,
   "id": "a866d6bc",
   "metadata": {},
   "outputs": [
    {
     "data": {
      "text/plain": [
       "<sqlite3.Cursor at 0x22de3870540>"
      ]
     },
     "execution_count": 6,
     "metadata": {},
     "output_type": "execute_result"
    }
   ],
   "source": [
    "cur.execute(\"\"\"create table if not exists details_log\n",
    "                (\n",
    "                    \n",
    "                    fname text,\n",
    "                    lname text,\n",
    "                    newcontact number,\n",
    "                    oldcontact number,\n",
    "                    datetime text,\n",
    "                    operation text\n",
    "                    \n",
    "                )\"\"\")"
   ]
  },
  {
   "cell_type": "code",
   "execution_count": 7,
   "id": "c46fa3d6",
   "metadata": {},
   "outputs": [
    {
     "data": {
      "text/plain": [
       "<sqlite3.Cursor at 0x22de3870540>"
      ]
     },
     "execution_count": 7,
     "metadata": {},
     "output_type": "execute_result"
    }
   ],
   "source": [
    "cur.execute(\"\"\"create trigger if not exists insertdata\n",
    "               after insert on contact\n",
    "               begin\n",
    "                   insert into details_log\n",
    "                   values(new.fname,new.lname,new.contact,'NULL',datetime('now'),'insert');\n",
    "               end;\n",
    "                   \"\"\")"
   ]
  },
  {
   "cell_type": "code",
   "execution_count": 8,
   "id": "d69ff986",
   "metadata": {},
   "outputs": [
    {
     "data": {
      "text/plain": [
       "<sqlite3.Cursor at 0x22de3870540>"
      ]
     },
     "execution_count": 8,
     "metadata": {},
     "output_type": "execute_result"
    }
   ],
   "source": [
    "cur.execute(\"\"\"create trigger if not exists deletedata\n",
    "               after delete on contact\n",
    "               begin\n",
    "                   insert into details_log\n",
    "                   values(old.fname,old.lname,'NULL',old.contact,datetime('now'),'delete');\n",
    "               end;\n",
    "                   \"\"\")"
   ]
  },
  {
   "cell_type": "code",
   "execution_count": 9,
   "id": "ea4745e8",
   "metadata": {},
   "outputs": [
    {
     "data": {
      "text/plain": [
       "<sqlite3.Cursor at 0x22de3870540>"
      ]
     },
     "execution_count": 9,
     "metadata": {},
     "output_type": "execute_result"
    }
   ],
   "source": [
    "cur.execute(\"\"\"create trigger if not exists updatedata\n",
    "               after update on contact\n",
    "               begin\n",
    "                   insert into details_log\n",
    "                   values(new.fname,new.lname,new.contact,old.contact,datetime('now'),'update');\n",
    "               end;\n",
    "                   \"\"\")"
   ]
  },
  {
   "cell_type": "code",
   "execution_count": 10,
   "id": "7c0b22c8",
   "metadata": {},
   "outputs": [],
   "source": [
    "def updaterecord(cd):\n",
    "    newcon=int(input(\"Enter new Contact Number:\"))\n",
    "    cur.execute(f\"Update contact set contact={newcon} where cid={cd};\")"
   ]
  },
  {
   "cell_type": "code",
   "execution_count": 11,
   "id": "21d0703a",
   "metadata": {},
   "outputs": [],
   "source": [
    "def deleterecord(cd):\n",
    "    cur.execute(f\"delete from contact where cid={cd}\")"
   ]
  },
  {
   "cell_type": "code",
   "execution_count": 12,
   "id": "13848d86",
   "metadata": {},
   "outputs": [],
   "source": [
    "def searchrecord(cd):\n",
    "    cur.execute(f\"select * from contact where cid={cd}\")\n",
    "    row=cur.fetchall()\n",
    "    print(row)"
   ]
  },
  {
   "cell_type": "code",
   "execution_count": 13,
   "id": "dffa97ce",
   "metadata": {},
   "outputs": [
    {
     "data": {
      "text/plain": [
       "<sqlite3.Cursor at 0x22de3870540>"
      ]
     },
     "execution_count": 13,
     "metadata": {},
     "output_type": "execute_result"
    }
   ],
   "source": [
    "cur.execute(\"\"\"insert into contact values\n",
    "                (1,'parth','rathod',9874553750,'parth@gmail.com','mahuva'),\n",
    "                (2,'dhrumin','rathod',2431656622,'dhrumin@gmail.com','surat'),\n",
    "                (3,'dev','patel',8525842023,'dev@gmail.com','mandvi'),\n",
    "                (4,'fenil','patil',8453860101,'fenil@gmail.com','vyara'),\n",
    "                (5,'jenil','shah',74867357452,'jenil@gmail.com','madhi');\"\"\")"
   ]
  },
  {
   "cell_type": "code",
   "execution_count": 14,
   "id": "dc96530c",
   "metadata": {},
   "outputs": [
    {
     "name": "stdout",
     "output_type": "stream",
     "text": [
      "Enter new Contact Number:9328838589\n"
     ]
    }
   ],
   "source": [
    "updaterecord(2)"
   ]
  },
  {
   "cell_type": "code",
   "execution_count": 15,
   "id": "b5bb5083",
   "metadata": {},
   "outputs": [],
   "source": [
    "deleterecord(3)"
   ]
  },
  {
   "cell_type": "code",
   "execution_count": 16,
   "id": "12e6bfda",
   "metadata": {},
   "outputs": [
    {
     "name": "stdout",
     "output_type": "stream",
     "text": [
      "\n",
      "ID:1\n",
      "Fname:parth\n",
      "Lname:rathod\n",
      "Contact:9874553750\n",
      "Email:parth@gmail.com\n",
      "city:mahuva\n",
      "\n",
      "ID:2\n",
      "Fname:dhrumin\n",
      "Lname:rathod\n",
      "Contact:9328838589\n",
      "Email:dhrumin@gmail.com\n",
      "city:surat\n",
      "\n",
      "ID:4\n",
      "Fname:fenil\n",
      "Lname:patil\n",
      "Contact:8453860101\n",
      "Email:fenil@gmail.com\n",
      "city:vyara\n",
      "\n",
      "ID:5\n",
      "Fname:jenil\n",
      "Lname:shah\n",
      "Contact:74867357452\n",
      "Email:jenil@gmail.com\n",
      "city:madhi\n"
     ]
    }
   ],
   "source": [
    "cur.execute(\"select * from contact\")\n",
    "row=cur.fetchall()\n",
    "for i in row:\n",
    "    print(f\"\\nID:{i[0]}\\nFname:{i[1]}\\nLname:{i[2]}\\nContact:{i[3]}\\nEmail:{i[4]}\\ncity:{i[5]}\")"
   ]
  },
  {
   "cell_type": "code",
   "execution_count": 17,
   "id": "74d00f95",
   "metadata": {},
   "outputs": [
    {
     "name": "stdout",
     "output_type": "stream",
     "text": [
      "[('parth', 'rathod', 9874553750, 'NULL', '2023-08-10 07:42:15', 'insert'), ('dhrumin', 'rathod', 2431656622, 'NULL', '2023-08-10 07:42:15', 'insert'), ('dev', 'patel', 8525842023, 'NULL', '2023-08-10 07:42:15', 'insert'), ('fenil', 'patil', 8453860101, 'NULL', '2023-08-10 07:42:15', 'insert'), ('jenil', 'shah', 74867357452, 'NULL', '2023-08-10 07:42:15', 'insert'), ('dhrumin', 'rathod', 9328838589, 2431656622, '2023-08-10 07:42:35', 'update'), ('dev', 'patel', 'NULL', 8525842023, '2023-08-10 07:42:47', 'delete')]\n",
      "\n",
      "Fname:parth\n",
      "Lname:rathod\n",
      "New-contact:9874553750\n",
      "Old-Contact:NULL\n",
      "Datetime:2023-08-10 07:42:15\n",
      "Operation:insert\n",
      "\n",
      "Fname:dhrumin\n",
      "Lname:rathod\n",
      "New-contact:2431656622\n",
      "Old-Contact:NULL\n",
      "Datetime:2023-08-10 07:42:15\n",
      "Operation:insert\n",
      "\n",
      "Fname:dev\n",
      "Lname:patel\n",
      "New-contact:8525842023\n",
      "Old-Contact:NULL\n",
      "Datetime:2023-08-10 07:42:15\n",
      "Operation:insert\n",
      "\n",
      "Fname:fenil\n",
      "Lname:patil\n",
      "New-contact:8453860101\n",
      "Old-Contact:NULL\n",
      "Datetime:2023-08-10 07:42:15\n",
      "Operation:insert\n",
      "\n",
      "Fname:jenil\n",
      "Lname:shah\n",
      "New-contact:74867357452\n",
      "Old-Contact:NULL\n",
      "Datetime:2023-08-10 07:42:15\n",
      "Operation:insert\n",
      "\n",
      "Fname:dhrumin\n",
      "Lname:rathod\n",
      "New-contact:9328838589\n",
      "Old-Contact:2431656622\n",
      "Datetime:2023-08-10 07:42:35\n",
      "Operation:update\n",
      "\n",
      "Fname:dev\n",
      "Lname:patel\n",
      "New-contact:NULL\n",
      "Old-Contact:8525842023\n",
      "Datetime:2023-08-10 07:42:47\n",
      "Operation:delete\n"
     ]
    }
   ],
   "source": [
    "cur.execute(\"select * from details_log\")\n",
    "row1=cur.fetchall()\n",
    "print(row1)\n",
    "for i in row1:\n",
    "    print(f\"\\nFname:{i[0]}\\nLname:{i[1]}\\nNew-contact:{i[2]}\\nOld-Contact:{i[3]}\\nDatetime:{i[4]}\\nOperation:{i[5]}\")"
   ]
  },
  {
   "cell_type": "code",
   "execution_count": null,
   "id": "e6637674",
   "metadata": {},
   "outputs": [],
   "source": []
  }
 ],
 "metadata": {
  "kernelspec": {
   "display_name": "Python 3 (ipykernel)",
   "language": "python",
   "name": "python3"
  },
  "language_info": {
   "codemirror_mode": {
    "name": "ipython",
    "version": 3
   },
   "file_extension": ".py",
   "mimetype": "text/x-python",
   "name": "python",
   "nbconvert_exporter": "python",
   "pygments_lexer": "ipython3",
   "version": "3.11.4"
  }
 },
 "nbformat": 4,
 "nbformat_minor": 5
}
